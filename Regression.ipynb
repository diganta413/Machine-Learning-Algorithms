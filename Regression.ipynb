{
 "cells": [
  {
   "cell_type": "markdown",
   "metadata": {},
   "source": [
    "# Simple Linear Regression Model using sklearn\n",
    "\n"
   ]
  },
  {
   "cell_type": "code",
   "execution_count": null,
   "metadata": {},
   "outputs": [],
   "source": [
    "import numpy as np\n",
    "import pandas as pd\n",
    "import matplotlib.pyplot as plt\n",
    "from sklearn import linear_model\n",
    "from sklearn.metrics import mean_squared_error as ms\n",
    "from sklearn.metrics import r2_score"
   ]
  },
  {
   "cell_type": "code",
   "execution_count": null,
   "metadata": {},
   "outputs": [],
   "source": [
    "d=pd.read_csv(\"prices.csv\")\n",
    "print(d.head())\n",
    "#print(d)"
   ]
  },
  {
   "cell_type": "code",
   "execution_count": null,
   "metadata": {},
   "outputs": [],
   "source": [
    "x=np.array(d[[\"X3 distance to the nearest MRT station\"]])\n",
    "y=np.array(d[[\"Y house price of unit area\"]])\n",
    "#print(y)"
   ]
  },
  {
   "cell_type": "code",
   "execution_count": null,
   "metadata": {},
   "outputs": [],
   "source": [
    "m=np.random.rand(len(x)) < 0.8\n",
    "#print(m)"
   ]
  },
  {
   "cell_type": "code",
   "execution_count": null,
   "metadata": {},
   "outputs": [],
   "source": [
    "x_train=x[m]\n",
    "x_test=x[~m]\n",
    "y_train=y[m]\n",
    "y_test=y[~m]\n",
    "#print(y_test)"
   ]
  },
  {
   "cell_type": "markdown",
   "metadata": {},
   "source": [
    "# Fitting Into The Model"
   ]
  },
  {
   "cell_type": "code",
   "execution_count": null,
   "metadata": {},
   "outputs": [],
   "source": [
    "l=linear_model.LinearRegression()\n",
    "l.fit(x_train,y_train)\n",
    "print(l.coef_,l.intercept_)"
   ]
  },
  {
   "cell_type": "code",
   "execution_count": null,
   "metadata": {},
   "outputs": [],
   "source": [
    "y_predict=l.predict(x_test)\n",
    "plt.scatter(x_train,y_train)\n",
    "plt.plot(x_test,y_predict,'-r')\n",
    "plt.show()"
   ]
  },
  {
   "cell_type": "markdown",
   "metadata": {},
   "source": [
    "# Calculating The Error"
   ]
  },
  {
   "cell_type": "code",
   "execution_count": null,
   "metadata": {},
   "outputs": [],
   "source": [
    "print(\"The mean squared error is: \",ms(y_test,y_predict))"
   ]
  },
  {
   "cell_type": "code",
   "execution_count": null,
   "metadata": {},
   "outputs": [],
   "source": [
    "print(\"The r2 score is: \",r2_score(y_test,y_predict))"
   ]
  },
  {
   "cell_type": "markdown",
   "metadata": {},
   "source": [
    "# Polynomial Regression"
   ]
  },
  {
   "cell_type": "code",
   "execution_count": null,
   "metadata": {},
   "outputs": [],
   "source": [
    "import numpy as np\n",
    "from sklearn.preprocessing import PolynomialFeatures\n",
    "from sklearn.linear_model import LinearRegression\n",
    "import matplotlib.pyplot as plt\n",
    "from sklearn.metrics import mean_squared_error as ms\n",
    "from sklearn.metrics import r2_score\n",
    "x_poly=np.array(d[[\"X5 latitude\",\"X6 longitude\"]])\n",
    "y_poly=np.array(d[[\"Y house price of unit area\"]])\n",
    "m=np.random.rand(len(x_poly)) < 0.8\n",
    "x_poly_train=x_poly[m]\n",
    "x_poly_test=x_poly[~m]\n",
    "y_poly_train=y_poly[m]\n",
    "y_poly_test=y_poly[~m]\n",
    "poly=PolynomialFeatures(degree=2)\n",
    "train_x_poly=poly.fit_transform(x_poly_train)\n",
    "test_x_poly=poly.fit_transform(x_poly_test)\n",
    "#print(train_x_poly)\n",
    "\n",
    "model=LinearRegression()\n",
    "model.fit(train_x_poly,y_poly_train)\n",
    "y=model.predict(test_x_poly)\n",
    "print(model.coef_)\n",
    "print(ms(y_poly_test,y))\n",
    "print(r2_score(y_poly_test,y))\n",
    "#print(yy)\n",
    "#plt.scatter(x_poly_train,y_poly_train)\n",
    "#plt.plot(x_poly_test,y,'-r')\n",
    "#plt.show()\n",
    "#print(train_x_poly)"
   ]
  },
  {
   "cell_type": "markdown",
   "metadata": {},
   "source": [
    "# Non-linear regression"
   ]
  },
  {
   "cell_type": "code",
   "execution_count": null,
   "metadata": {},
   "outputs": [],
   "source": [
    "import matplotlib.pyplot as plt\n",
    "import pandas as pd\n",
    "from math import log as lg\n",
    "from scipy.optimize import curve_fit\n",
    "import numpy as np\n",
    "d=pd.read_csv(\"prices.csv\")\n",
    "#print(d.head())\n",
    "x=d[\"X3 distance to the nearest MRT station\"].values\n",
    "y=d[\"Y house price of unit area\"].values\n",
    "plt.scatter(x,y)\n",
    "plt.show()\n",
    "print(type(x))"
   ]
  },
  {
   "cell_type": "code",
   "execution_count": null,
   "metadata": {},
   "outputs": [],
   "source": [
    "def logarithm(x,a):\n",
    "    return (np.log(x)/np.log(a))\n",
    "    \n"
   ]
  },
  {
   "cell_type": "code",
   "execution_count": null,
   "metadata": {},
   "outputs": [],
   "source": [
    "\n",
    "popt,pcov = curve_fit(logarithm,x,y)\n",
    "print(popt)\n",
    "\n"
   ]
  },
  {
   "cell_type": "code",
   "execution_count": null,
   "metadata": {},
   "outputs": [],
   "source": []
  }
 ],
 "metadata": {
  "kernelspec": {
   "display_name": "Python 3",
   "language": "python",
   "name": "python3"
  },
  "language_info": {
   "codemirror_mode": {
    "name": "ipython",
    "version": 3
   },
   "file_extension": ".py",
   "mimetype": "text/x-python",
   "name": "python",
   "nbconvert_exporter": "python",
   "pygments_lexer": "ipython3",
   "version": "3.8.3"
  }
 },
 "nbformat": 4,
 "nbformat_minor": 4
}
